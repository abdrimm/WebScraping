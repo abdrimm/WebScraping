{
 "cells": [
  {
   "cell_type": "code",
   "execution_count": 51,
   "id": "da442eb6",
   "metadata": {},
   "outputs": [],
   "source": [
    "from bs4 import BeautifulSoup\n",
    "import requests\n",
    "import time\n",
    "import datetime\n",
    "\n",
    "import smtplib"
   ]
  },
  {
   "cell_type": "code",
   "execution_count": 55,
   "id": "77fc3d8c",
   "metadata": {},
   "outputs": [
    {
     "name": "stdout",
     "output_type": "stream",
     "text": [
      "466.55\n"
     ]
    }
   ],
   "source": [
    "\n",
    "URL = 'https://www.xe.com/currencyconverter/convert/?Amount=1&From=USD&To=KZT'\n",
    "headers = {\"User-Agent\": \"Mozilla/5.0 (Macintosh; Intel Mac OS X 10_15_7) AppleWebKit/537.36 (KHTML, like Gecko) Chrome/106.0.0.0 Safari/537.36\", \"Accept-Encoding\":\"gzip, deflate\", \"Accept\":\"text/html,application/xhtml+xml,application/xml;q=0.9,*/*;q=0.8\", \"DNT\":\"1\",\"Connection\":\"close\", \"Upgrade-Insecure-Requests\":\"1\"}\n",
    "page = requests.get(URL,headers=headers)\n",
    "content = requests.get(URL).text\n",
    "soup = BeautifulSoup(page.content, \"html.parser\")\n",
    "currency = soup.find(\"p\", class_=\"result__BigRate-sc-1bsijpp-1 iGrAod\").get_text()\n",
    "currency = float(currency[:6])\n",
    "print(currency)\n",
    "\n",
    "\n"
   ]
  },
  {
   "cell_type": "code",
   "execution_count": 56,
   "id": "962d0d93",
   "metadata": {},
   "outputs": [
    {
     "name": "stdout",
     "output_type": "stream",
     "text": [
      "2022-11-03\n"
     ]
    }
   ],
   "source": [
    "import datetime\n",
    "\n",
    "today = datetime.date.today()\n",
    "print(today)"
   ]
  },
  {
   "cell_type": "code",
   "execution_count": 57,
   "id": "5db7cc29",
   "metadata": {},
   "outputs": [],
   "source": [
    "import csv\n",
    "header = ['Date', 'USD to KZT']\n",
    "data = [today, currency]\n",
    "\n",
    "#with open('CurrencyWebScraper.csv', 'w', newline='', encoding='UTF8') as f:\n",
    "#    writer = csv.writer(f)\n",
    " #   writer.writerow(header)\n",
    "#    writer.writerow(data)\n"
   ]
  },
  {
   "cell_type": "code",
   "execution_count": 58,
   "id": "17ab8dc9",
   "metadata": {},
   "outputs": [
    {
     "data": {
      "text/html": [
       "<div>\n",
       "<style scoped>\n",
       "    .dataframe tbody tr th:only-of-type {\n",
       "        vertical-align: middle;\n",
       "    }\n",
       "\n",
       "    .dataframe tbody tr th {\n",
       "        vertical-align: top;\n",
       "    }\n",
       "\n",
       "    .dataframe thead th {\n",
       "        text-align: right;\n",
       "    }\n",
       "</style>\n",
       "<table border=\"1\" class=\"dataframe\">\n",
       "  <thead>\n",
       "    <tr style=\"text-align: right;\">\n",
       "      <th></th>\n",
       "      <th>Date</th>\n",
       "      <th>USD to KZT</th>\n",
       "    </tr>\n",
       "  </thead>\n",
       "  <tbody>\n",
       "    <tr>\n",
       "      <th>0</th>\n",
       "      <td>2022-11-03</td>\n",
       "      <td>466.55</td>\n",
       "    </tr>\n",
       "  </tbody>\n",
       "</table>\n",
       "</div>"
      ],
      "text/plain": [
       "         Date  USD to KZT\n",
       "0  2022-11-03      466.55"
      ]
     },
     "execution_count": 58,
     "metadata": {},
     "output_type": "execute_result"
    }
   ],
   "source": [
    "import pandas as pd\n",
    "\n",
    "pd.read_csv('/Users/macbook/CurrencyWebScraper.csv')"
   ]
  },
  {
   "cell_type": "code",
   "execution_count": 59,
   "id": "b5545f8c",
   "metadata": {},
   "outputs": [],
   "source": [
    "def send_mail():\n",
    "    server = smtplib.SMTP_SSL('smtp.gmail.com',465)\n",
    "    server.ehlo()\n",
    "    #server.starttls()\n",
    "    server.ehlo()\n",
    "    server.login('zhanaiger2001@gmail.com','zhanaiger2001')\n",
    "    \n",
    "    subject = \"Dollar is below 450 KZT! Now is your chance to buy!\"\n",
    "    body = \"Aigerim, your program is working.\"\n",
    "   \n",
    "    msg = f\"Subject: {subject}\\n\\n{body}\"\n",
    "    \n",
    "    server.sendmail(\n",
    "        'zhanaiger2001@gmail.com',\n",
    "        msg\n",
    "     \n",
    "    )"
   ]
  },
  {
   "cell_type": "code",
   "execution_count": 60,
   "id": "6d7f64d4",
   "metadata": {},
   "outputs": [],
   "source": [
    "def check_currency():\n",
    "    URL = 'https://www.xe.com/currencyconverter/convert/?Amount=1&From=USD&To=KZT'\n",
    "    headers = {\"User-Agent\": \"Mozilla/5.0 (Macintosh; Intel Mac OS X 10_15_7) AppleWebKit/537.36 (KHTML, like Gecko) Chrome/106.0.0.0 Safari/537.36\", \"Accept-Encoding\":\"gzip, deflate\", \"Accept\":\"text/html,application/xhtml+xml,application/xml;q=0.9,*/*;q=0.8\", \"DNT\":\"1\",\"Connection\":\"close\", \"Upgrade-Insecure-Requests\":\"1\"}\n",
    "    page = requests.get(URL,headers=headers)\n",
    "    content = requests.get(URL).text\n",
    "    soup = BeautifulSoup(page.content, \"html.parser\")\n",
    "    currency = soup.find(\"p\", class_=\"result__BigRate-sc-1bsijpp-1 iGrAod\").get_text()\n",
    "    currency = float(currency[:6])\n",
    "    \n",
    "    import datetime\n",
    "    today = datetime.date.today()\n",
    "    \n",
    "    import csv\n",
    "    header = ['Date', 'USD to KZT']\n",
    "    data = [today, currency]\n",
    "    \n",
    "    #now we are adding data to the csv\n",
    "    with open('CurrencyWebScraper.csv', 'a+', newline='', encoding='UTF8') as f:\n",
    "        writer = csv.writer(f)\n",
    "        writer.writerow(data)\n",
    "    if(currency < 450):\n",
    "        send_email()\n"
   ]
  },
  {
   "cell_type": "code",
   "execution_count": null,
   "id": "07c4b237",
   "metadata": {},
   "outputs": [],
   "source": [
    "while(True):\n",
    "    check_currency()\n",
    "    time.sleep(86400)"
   ]
  },
  {
   "cell_type": "code",
   "execution_count": null,
   "id": "0ba8771d",
   "metadata": {},
   "outputs": [],
   "source": []
  }
 ],
 "metadata": {
  "kernelspec": {
   "display_name": "Python 3 (ipykernel)",
   "language": "python",
   "name": "python3"
  },
  "language_info": {
   "codemirror_mode": {
    "name": "ipython",
    "version": 3
   },
   "file_extension": ".py",
   "mimetype": "text/x-python",
   "name": "python",
   "nbconvert_exporter": "python",
   "pygments_lexer": "ipython3",
   "version": "3.9.13"
  }
 },
 "nbformat": 4,
 "nbformat_minor": 5
}
